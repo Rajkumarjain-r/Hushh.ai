{
 "cells": [
  {
   "cell_type": "code",
   "execution_count": 1,
   "id": "476f4185",
   "metadata": {},
   "outputs": [],
   "source": [
    "url = 'https://rocketreach.co/person?start=1&pageSize=10&link=https:%2F%2Fwww.linkedin.com%2Fin%2Fmanishsainani'"
   ]
  },
  {
   "cell_type": "code",
   "execution_count": 52,
   "id": "bfca9c2e",
   "metadata": {},
   "outputs": [
    {
     "name": "stderr",
     "output_type": "stream",
     "text": [
      "C:\\Users\\rajmr\\AppData\\Local\\Temp\\ipykernel_6292\\421110397.py:16: DeprecationWarning: executable_path has been deprecated, please pass in a Service object\n",
      "  driver = webdriver.Chrome(executable_path=CHROME_DRIVER_PATH)\n"
     ]
    },
    {
     "data": {
      "text/plain": [
       "'\\n# Wait for the page to load (you might need to adjust the time depending on your network speed)\\ntime.sleep(3)\\n\\n# Find the \"Continue with Google\" button and click on it\\ncontinue_with_google_button = driver.find_element(By.XPATH, \"/html/body/div[1]/div[7]/div[2]/div/form/div[2]/div[3]/a/span[2]\")\\ncontinue_with_google_button.click()\\n\\n# Wait for a few seconds to allow for Google login\\ntime.sleep(2)  # Adjust this time based on how long it typically takes to log in through Google\\n\\n# After logging in, find the phone number input field and fill in the number \"999\"\\nphone_input_xpath = \"/html/body/div[1]/div[1]/div[2]/div/c-wiz/div/div[2]/div/div[1]/div/form/span/section/div/div/div[1]/div/div[1]/div/div[1]/input\"\\nphone_input = driver.find_element(By.XPATH, phone_input_xpath)\\nphone_input.send_keys(\"9886221331\")\\n\\n\\ntarget_button_xpath = \"/html/body/div[1]/div[1]/div[2]/div/c-wiz/div/div[2]/div/div[2]/div/div[1]/div/div/button/span\"\\ntarget_button = driver.find_element(By.XPATH, target_button_xpath)\\ntarget_button.click()\\n\\n\\n# Wait for a few seconds to see the result\\ntime.sleep(5)\\n\\n# Print the current page title (you can perform other actions here)\\nprint(\\'Page title:\\', driver.title)\\n'"
      ]
     },
     "execution_count": 52,
     "metadata": {},
     "output_type": "execute_result"
    }
   ],
   "source": [
    "from selenium import webdriver\n",
    "from selenium.webdriver.common.by import By\n",
    "from selenium.webdriver.common.keys import Keys\n",
    "import time\n",
    "\n",
    "# Replace this with the path to your ChromeDriver executable\n",
    "DRIVER_PATH = r'chromedriver.exe'\n",
    "\n",
    "# Set Chrome options with a custom user-agent\n",
    "chrome_options = Options()\n",
    "chrome_options.add_argument(\"--user-agent=Mozilla/5.0 (Windows NT 10.0; Win64; x64) AppleWebKit/537.36 (KHTML, like Gecko) Chrome/58.0.3029.110 Safari/537.3\")\n",
    "\n",
    "chrome_options = webdriver.ChromeOptions()\n",
    "chrome_options.add_argument(headers)\n",
    "# Start a new Chrome browser session\n",
    "driver = webdriver.Chrome(executable_path=CHROME_DRIVER_PATH)\n",
    "\n",
    "# Navigate to the login page\n",
    "driver.get('https://rocketreach.co/login')\n",
    "\n",
    "# Wait for the page to load (you might need to adjust the time depending on your network speed)\n",
    "time.sleep(3)\n",
    "\n",
    "# Find the \"Continue with Google\" button and click on it\n",
    "continue_with_google_button = driver.find_element(By.XPATH, \"/html/body/div[1]/div[7]/div[2]/div/form/div[2]/div[3]/a/span[2]\")\n",
    "continue_with_google_button.click()\n",
    "\n",
    "# Wait for a few seconds to allow for Google login\n",
    "time.sleep(2)  # Adjust this time based on how long it typically takes to log in through Google\n",
    "\n",
    "# After logging in, find the phone number input field and fill in the number \"999\"\n",
    "phone_input_xpath = \"/html/body/div[1]/div[1]/div[2]/div/c-wiz/div/div[2]/div/div[1]/div/form/span/section/div/div/div[1]/div/div[1]/div/div[1]/input\"\n",
    "phone_input = driver.find_element(By.XPATH, phone_input_xpath)\n",
    "phone_input.send_keys(\"9886221331\")\n",
    "\n",
    "\n",
    "target_button_xpath = \"/html/body/div[1]/div[1]/div[2]/div/c-wiz/div/div[2]/div/div[2]/div/div[1]/div/div/button/span\"\n",
    "target_button = driver.find_element(By.XPATH, target_button_xpath)\n",
    "target_button.click()\n",
    "\n",
    "\n",
    "# Wait for a few seconds to see the result\n",
    "time.sleep(5)\n",
    "\n",
    "# Print the current page title (you can perform other actions here)\n",
    "print('Page title:', driver.title)\n",
    "\n",
    "# Close the browser\n",
    "#driver.quit()\n"
   ]
  },
  {
   "cell_type": "code",
   "execution_count": null,
   "id": "4a35e31f",
   "metadata": {},
   "outputs": [],
   "source": []
  },
  {
   "cell_type": "code",
   "execution_count": null,
   "id": "fc56446a",
   "metadata": {},
   "outputs": [],
   "source": []
  }
 ],
 "metadata": {
  "kernelspec": {
   "display_name": "Python 3 (ipykernel)",
   "language": "python",
   "name": "python3"
  },
  "language_info": {
   "codemirror_mode": {
    "name": "ipython",
    "version": 3
   },
   "file_extension": ".py",
   "mimetype": "text/x-python",
   "name": "python",
   "nbconvert_exporter": "python",
   "pygments_lexer": "ipython3",
   "version": "3.10.9"
  }
 },
 "nbformat": 4,
 "nbformat_minor": 5
}
